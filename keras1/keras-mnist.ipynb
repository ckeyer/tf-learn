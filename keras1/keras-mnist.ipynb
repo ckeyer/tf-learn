{
    "cells": [
        {
            "cell_type": "code",
            "execution_count": 1,
            "metadata": {},
            "outputs": [
                {
                    "name": "stdout",
                    "output_type": "stream",
                    "text": [
                        "hello\n"
                    ]
                }
            ],
            "source": [
                "print('hello')"
            ]
        },
        {
            "cell_type": "code",
            "execution_count": 4,
            "metadata": {},
            "outputs": [
                {
                    "data": {
                        "text/plain": [
                            "['Sequential',\n",
                            " '__builtins__',\n",
                            " '__cached__',\n",
                            " '__doc__',\n",
                            " '__file__',\n",
                            " '__loader__',\n",
                            " '__name__',\n",
                            " '__package__',\n",
                            " '__spec__',\n",
                            " 'keras',\n",
                            " 'mnist',\n",
                            " 'model',\n",
                            " 'x_test',\n",
                            " 'x_train',\n",
                            " 'y_test',\n",
                            " 'y_train']"
                        ]
                    },
                    "execution_count": 4,
                    "metadata": {},
                    "output_type": "execute_result"
                }
            ],
            "source": [
                "import tensorflow as tf\n",
                "\n",
                "import tensorflow.keras\n",
                "from tensorflow.keras.models import Sequential\n",
                "from tensorflow.keras.layers import Dense\n",
                "from tensorflow.keras.optimizers import RMSprop\n",
                "from tensorflow.keras.datasets import mnist\n",
                "\n",
                "dir(keras)"
            ]
        },
        {
            "cell_type": "code",
            "execution_count": 7,
            "metadata": {},
            "outputs": [
                {
                    "name": "stdout",
                    "output_type": "stream",
                    "text": [
                        "(60000, 28, 28) (60000,)\n",
                        "(10000, 28, 28) (10000,)\n",
                        "[0 0 0 0 0 0 0 0 0 0 0 0 0 0 0 0 0 0 0 0 0 0 0 0 0 0 0 0] [5 0 4 ... 5 6 8]\n"
                    ]
                }
            ],
            "source": [
                "(x_train, y_train), (x_test, y_test) = mnist.load_data()\n",
                "\n",
                "print(x_train.shape, y_train.shape)\n",
                "print(x_test.shape, y_test.shape)\n",
                "\n",
                "print(x_train[0][0], y_train)"
            ]
        },
        {
            "cell_type": "code",
            "execution_count": 8,
            "metadata": {},
            "outputs": [
                {
                    "name": "stdout",
                    "output_type": "stream",
                    "text": [
                        "(60000, 784) (10000, 784)\n"
                    ]
                },
                {
                    "ename": "AttributeError",
                    "evalue": "module 'keras' has no attribute 'utils'",
                    "output_type": "error",
                    "traceback": [
                        "\u001b[0;31m---------------------------------------------------------------------------\u001b[0m",
                        "\u001b[0;31mAttributeError\u001b[0m                            Traceback (most recent call last)",
                        "Input \u001b[0;32mIn [8]\u001b[0m, in \u001b[0;36m<module>\u001b[0;34m\u001b[0m\n\u001b[1;32m      4\u001b[0m x_test \u001b[38;5;241m=\u001b[39m x_test\u001b[38;5;241m/\u001b[39m\u001b[38;5;241m255\u001b[39m\n\u001b[1;32m      6\u001b[0m \u001b[38;5;28mprint\u001b[39m(x_train\u001b[38;5;241m.\u001b[39mshape, x_test\u001b[38;5;241m.\u001b[39mshape)\n\u001b[0;32m----> 8\u001b[0m y_train \u001b[38;5;241m=\u001b[39m \u001b[48;5;17mkeras\u001b[49m\u001b[38;5;241;48;5;17m.\u001b[39;49m\u001b[48;5;17mutils\u001b[49m\u001b[38;5;241m.\u001b[39mto_categorical(y_train, \u001b[38;5;241m10\u001b[39m)\n\u001b[1;32m      9\u001b[0m y_test \u001b[38;5;241m=\u001b[39m keras\u001b[38;5;241m.\u001b[39mutils\u001b[38;5;241m.\u001b[39mto_categorical(y_test, \u001b[38;5;241m10\u001b[39m)\n\u001b[1;32m     11\u001b[0m \u001b[38;5;28mprint\u001b[39m(y_train\u001b[38;5;241m.\u001b[39mshape, y_test\u001b[38;5;241m.\u001b[39mshape)\n",
                        "\u001b[0;31mAttributeError\u001b[0m: module 'keras' has no attribute 'utils'"
                    ]
                }
            ],
            "source": [
                "x_train = x_train.reshape(60000, 28*28) \n",
                "x_test = x_test.reshape(10000, 28*28)\n",
                "x_train = x_train/255\n",
                "x_test = x_test/255\n",
                "\n",
                "print(x_train.shape, x_test.shape)\n",
                "\n",
                "y_train = keras.utils.to_categorical(y_train, 10)\n",
                "y_test = keras.utils.to_categorical(y_test, 10)\n",
                "\n",
                "print(y_train.shape, y_test.shape)"
            ]
        },
        {
            "cell_type": "code",
            "execution_count": null,
            "metadata": {},
            "outputs": [],
            "source": [
                "\n",
                "\n",
                "model = Sequential()\n",
                "model.add(Dense(128, activation='relu',input_shape=(28*28, )))\n",
                "model.add(Dense(48, activation='relu'))\n",
                "# model.add(Dense(32, activation='relu'))\n",
                "model.add(Dense(10, activation='softmax'))\n",
                "\n",
                "model.summary()\n",
                "\n",
                "model.compile(optimizer=RMSprop(), loss='categorical_crossentropy', metrics=['accuracy'])"
            ]
        },
        {
            "cell_type": "code",
            "execution_count": null,
            "metadata": {},
            "outputs": [],
            "source": [
                "\n",
                "model.fit(x_train,y_train,batch_size=8, epochs=5,validation_data=(x_test,y_test))\n",
                "score = model.evaluate(x_test, y_test)\n",
                "print(score)"
            ]
        },
        {
            "cell_type": "code",
            "execution_count": null,
            "metadata": {},
            "outputs": [],
            "source": [
                "# model"
            ]
        }
    ],
    "metadata": {
        "kernelspec": {
            "display_name": "Python 3 (ipykernel)",
            "language": "python",
            "name": "python3"
        },
        "language_info": {
            "codemirror_mode": {
                "name": "ipython",
                "version": 3
            },
            "file_extension": ".py",
            "mimetype": "text/x-python",
            "name": "python",
            "nbconvert_exporter": "python",
            "pygments_lexer": "ipython3",
            "version": "3.9.7"
        },
        "orig_nbformat": 4
    },
    "nbformat": 4,
    "nbformat_minor": 2
}
