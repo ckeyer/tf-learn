{
    "cells": [
        {
            "cell_type": "code",
            "execution_count": 68,
            "source": [
                "print('hello')"
            ],
            "outputs": [
                {
                    "output_type": "stream",
                    "name": "stdout",
                    "text": [
                        "hello\n"
                    ]
                }
            ],
            "metadata": {}
        },
        {
            "cell_type": "code",
            "execution_count": 69,
            "source": [
                "import keras\n",
                "from keras.models import Sequential\n",
                "from keras.layers import Dense\n",
                "from keras.optimizers import RMSprop\n",
                "from keras.datasets import mnist\n",
                "\n",
                "dir(keras)"
            ],
            "outputs": [
                {
                    "output_type": "execute_result",
                    "data": {
                        "text/plain": [
                            "['Input',\n",
                            " 'Model',\n",
                            " 'RandomRotation',\n",
                            " 'Sequential',\n",
                            " '__builtins__',\n",
                            " '__cached__',\n",
                            " '__doc__',\n",
                            " '__file__',\n",
                            " '__loader__',\n",
                            " '__name__',\n",
                            " '__package__',\n",
                            " '__path__',\n",
                            " '__spec__',\n",
                            " '__version__',\n",
                            " 'activations',\n",
                            " 'applications',\n",
                            " 'backend',\n",
                            " 'callbacks',\n",
                            " 'constraints',\n",
                            " 'datasets',\n",
                            " 'engine',\n",
                            " 'initializers',\n",
                            " 'layers',\n",
                            " 'losses',\n",
                            " 'metrics',\n",
                            " 'models',\n",
                            " 'optimizers',\n",
                            " 'preprocessing',\n",
                            " 'regularizers',\n",
                            " 'utils',\n",
                            " 'wrappers']"
                        ]
                    },
                    "metadata": {},
                    "execution_count": 69
                }
            ],
            "metadata": {}
        },
        {
            "cell_type": "code",
            "execution_count": 70,
            "source": [
                "(x_train, y_train), (x_test, y_test) = mnist.load_data()\n",
                "\n",
                "print(x_train.shape, y_train.shape)\n",
                "print(x_test.shape, y_test.shape)\n"
            ],
            "outputs": [
                {
                    "output_type": "stream",
                    "name": "stdout",
                    "text": [
                        "(60000, 28, 28) (60000,)\n",
                        "(10000, 28, 28) (10000,)\n"
                    ]
                }
            ],
            "metadata": {}
        },
        {
            "cell_type": "code",
            "execution_count": 71,
            "source": [
                "x_train = x_train.reshape(60000, 28*28) \n",
                "x_test = x_test.reshape(10000, 28*28)\n",
                "x_train = x_train/255\n",
                "x_test = x_test/255\n",
                "\n",
                "print(x_train.shape, x_test.shape)\n",
                "\n",
                "y_train = keras.utils.to_categorical(y_train, 10)\n",
                "y_test = keras.utils.to_categorical(y_test, 10)\n",
                "\n",
                "print(y_train.shape, y_test.shape)"
            ],
            "outputs": [
                {
                    "output_type": "stream",
                    "name": "stdout",
                    "text": [
                        "(60000, 784) (10000, 784)\n",
                        "(60000, 10) (10000, 10)\n"
                    ]
                }
            ],
            "metadata": {}
        },
        {
            "cell_type": "code",
            "execution_count": 76,
            "source": [
                "\n",
                "\n",
                "model = Sequential()\n",
                "model.add(Dense(128, activation='relu',input_shape=(28*28, )))\n",
                "model.add(Dense(48, activation='relu'))\n",
                "# model.add(Dense(32, activation='relu'))\n",
                "model.add(Dense(10, activation='softmax'))\n",
                "\n",
                "model.summary()\n",
                "\n",
                "model.compile(optimizer=RMSprop(), loss='categorical_crossentropy', metrics=['accuracy'])"
            ],
            "outputs": [
                {
                    "output_type": "stream",
                    "name": "stdout",
                    "text": [
                        "Model: \"sequential_19\"\n",
                        "_________________________________________________________________\n",
                        "Layer (type)                 Output Shape              Param #   \n",
                        "=================================================================\n",
                        "dense_60 (Dense)             (None, 128)               100480    \n",
                        "_________________________________________________________________\n",
                        "dense_61 (Dense)             (None, 48)                6192      \n",
                        "_________________________________________________________________\n",
                        "dense_62 (Dense)             (None, 10)                490       \n",
                        "=================================================================\n",
                        "Total params: 107,162\n",
                        "Trainable params: 107,162\n",
                        "Non-trainable params: 0\n",
                        "_________________________________________________________________\n"
                    ]
                },
                {
                    "output_type": "error",
                    "ename": "NameError",
                    "evalue": "name 'RMSprop' is not defined",
                    "traceback": [
                        "\u001b[0;31m---------------------------------------------------------------------------\u001b[0m",
                        "\u001b[0;31mNameError\u001b[0m                                 Traceback (most recent call last)",
                        "\u001b[0;32m/tmp/ipykernel_84/1520754633.py\u001b[0m in \u001b[0;36m<module>\u001b[0;34m\u001b[0m\n\u001b[1;32m      7\u001b[0m \u001b[0mmodel\u001b[0m\u001b[0;34m.\u001b[0m\u001b[0msummary\u001b[0m\u001b[0;34m(\u001b[0m\u001b[0;34m)\u001b[0m\u001b[0;34m\u001b[0m\u001b[0;34m\u001b[0m\u001b[0m\n\u001b[1;32m      8\u001b[0m \u001b[0;34m\u001b[0m\u001b[0m\n\u001b[0;32m----> 9\u001b[0;31m \u001b[0mmodel\u001b[0m\u001b[0;34m.\u001b[0m\u001b[0mcompile\u001b[0m\u001b[0;34m(\u001b[0m\u001b[0moptimizer\u001b[0m\u001b[0;34m=\u001b[0m\u001b[0mRMSprop\u001b[0m\u001b[0;34m(\u001b[0m\u001b[0;34m)\u001b[0m\u001b[0;34m,\u001b[0m \u001b[0mloss\u001b[0m\u001b[0;34m=\u001b[0m\u001b[0;34m'categorical_crossentropy'\u001b[0m\u001b[0;34m,\u001b[0m \u001b[0mmetrics\u001b[0m\u001b[0;34m=\u001b[0m\u001b[0;34m[\u001b[0m\u001b[0;34m'accuracy'\u001b[0m\u001b[0;34m]\u001b[0m\u001b[0;34m)\u001b[0m\u001b[0;34m\u001b[0m\u001b[0;34m\u001b[0m\u001b[0m\n\u001b[0m",
                        "\u001b[0;31mNameError\u001b[0m: name 'RMSprop' is not defined"
                    ]
                }
            ],
            "metadata": {}
        },
        {
            "cell_type": "code",
            "execution_count": 73,
            "source": [
                "\n",
                "model.fit(x_train,y_train,batch_size=8, epochs=5,validation_data=(x_test,y_test))\n",
                "score = model.evaluate(x_test, y_test)\n",
                "print(score)"
            ],
            "outputs": [
                {
                    "output_type": "stream",
                    "name": "stdout",
                    "text": [
                        "Epoch 1/5\n",
                        "7500/7500 [==============================] - 20s 2ms/step - loss: 0.6052 - accuracy: 0.8308 - val_loss: 0.1999 - val_accuracy: 0.9380\n",
                        "Epoch 2/5\n",
                        "7500/7500 [==============================] - 9s 1ms/step - loss: 0.1831 - accuracy: 0.9480 - val_loss: 0.1339 - val_accuracy: 0.9596\n",
                        "Epoch 3/5\n",
                        "7500/7500 [==============================] - 9s 1ms/step - loss: 0.1239 - accuracy: 0.9644 - val_loss: 0.1099 - val_accuracy: 0.9687\n",
                        "Epoch 4/5\n",
                        "7500/7500 [==============================] - 9s 1ms/step - loss: 0.0936 - accuracy: 0.9722 - val_loss: 0.1023 - val_accuracy: 0.9671\n",
                        "Epoch 5/5\n",
                        "7500/7500 [==============================] - 9s 1ms/step - loss: 0.0783 - accuracy: 0.9773 - val_loss: 0.0963 - val_accuracy: 0.9689\n",
                        "313/313 [==============================] - 1s 2ms/step - loss: 0.0963 - accuracy: 0.9689\n",
                        "[0.09629755467176437, 0.9689000248908997]\n"
                    ]
                }
            ],
            "metadata": {}
        },
        {
            "cell_type": "code",
            "execution_count": null,
            "source": [
                "# model"
            ],
            "outputs": [],
            "metadata": {}
        }
    ],
    "metadata": {
        "orig_nbformat": 4,
        "kernelspec": {
            "name": "python3",
            "display_name": "Python 3 (ipykernel)",
            "language": "python"
        },
        "language_info": {
            "name": "python",
            "version": "3.9.5",
            "mimetype": "text/x-python",
            "codemirror_mode": {
                "name": "ipython",
                "version": 3
            },
            "pygments_lexer": "ipython3",
            "nbconvert_exporter": "python",
            "file_extension": ".py"
        }
    },
    "nbformat": 4,
    "nbformat_minor": 2
}