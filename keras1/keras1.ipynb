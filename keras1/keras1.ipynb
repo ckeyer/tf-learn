{
    "cells": [
        {
            "cell_type": "code",
            "execution_count": null,
            "source": [
                "print('hello')"
            ],
            "outputs": [],
            "metadata": {}
        },
        {
            "cell_type": "code",
            "execution_count": null,
            "source": [
                "import keras\n",
                "from keras.models import Sequential\n",
                "from keras.layers import Dense\n",
                "from keras.optimizers import SGD\n",
                "from keras.datasets import mnist\n",
                "\n",
                "dir(keras)"
            ],
            "outputs": [],
            "metadata": {}
        },
        {
            "cell_type": "code",
            "execution_count": 28,
            "source": [
                "(x_train, y_train), (x_test, y_test) = mnist.load_data()\n",
                "\n",
                "print(x_train.shape, y_train.shape)\n",
                "print(x_test.shape, y_test.shape)\n"
            ],
            "outputs": [
                {
                    "output_type": "stream",
                    "name": "stdout",
                    "text": [
                        "(60000, 28, 28) (60000,)\n",
                        "(10000, 28, 28) (10000,)\n"
                    ]
                }
            ],
            "metadata": {}
        },
        {
            "cell_type": "code",
            "execution_count": 29,
            "source": [
                "x_train = x_train.reshape(60000, 28*28) \n",
                "x_test = x_test.reshape(10000, 28*28)\n",
                "x_train = x_train/255\n",
                "x_test = x_test/255\n",
                "\n",
                "print(x_train.shape, x_test.shape)\n",
                "\n",
                "y_train = keras.utils.to_categorical(y_train, 10)\n",
                "y_test = keras.utils.to_categorical(y_test, 10)\n",
                "\n",
                "print(y_train.shape, y_test.shape)"
            ],
            "outputs": [
                {
                    "output_type": "stream",
                    "name": "stdout",
                    "text": [
                        "(60000, 784) (10000, 784)\n",
                        "(60000, 10) (10000, 10)\n"
                    ]
                }
            ],
            "metadata": {}
        },
        {
            "cell_type": "code",
            "execution_count": 31,
            "source": [
                "\n",
                "\n",
                "model = Sequential()\n",
                "model.add(Dense(128, activation='relu',input_shape=(28*28, )))\n",
                "model.add(Dense(64, activation='relu'))\n",
                "model.add(Dense(10, activation='softmax'))\n",
                "\n",
                "model.summary()\n",
                "\n",
                "model.compile(optimizer=SGD(), loss='categorical_crossentropy', metrics=['accuracy'])"
            ],
            "outputs": [
                {
                    "output_type": "stream",
                    "name": "stdout",
                    "text": [
                        "Model: \"sequential_4\"\n",
                        "_________________________________________________________________\n",
                        "Layer (type)                 Output Shape              Param #   \n",
                        "=================================================================\n",
                        "dense_12 (Dense)             (None, 128)               100480    \n",
                        "_________________________________________________________________\n",
                        "dense_13 (Dense)             (None, 64)                8256      \n",
                        "_________________________________________________________________\n",
                        "dense_14 (Dense)             (None, 10)                650       \n",
                        "=================================================================\n",
                        "Total params: 109,386\n",
                        "Trainable params: 109,386\n",
                        "Non-trainable params: 0\n",
                        "_________________________________________________________________\n"
                    ]
                }
            ],
            "metadata": {}
        },
        {
            "cell_type": "code",
            "execution_count": 32,
            "source": [
                "\n",
                "model.fit(x_train,y_train,batch_size=16, epochs=5,validation_data=(x_test,y_test))\n",
                "score = model.evaluate(x_test, y_test)\n",
                "print(score)"
            ],
            "outputs": [
                {
                    "output_type": "stream",
                    "name": "stdout",
                    "text": [
                        "Epoch 1/5\n",
                        "3750/3750 [==============================] - 9s 2ms/step - loss: 0.8035 - accuracy: 0.7824 - val_loss: 0.2592 - val_accuracy: 0.9272\n",
                        "Epoch 2/5\n",
                        "3750/3750 [==============================] - 5s 1ms/step - loss: 0.2507 - accuracy: 0.9291 - val_loss: 0.1983 - val_accuracy: 0.9398\n",
                        "Epoch 3/5\n",
                        "3750/3750 [==============================] - 4s 1ms/step - loss: 0.1919 - accuracy: 0.9435 - val_loss: 0.1565 - val_accuracy: 0.9526\n",
                        "Epoch 4/5\n",
                        "3750/3750 [==============================] - 4s 1ms/step - loss: 0.1490 - accuracy: 0.9574 - val_loss: 0.1297 - val_accuracy: 0.9599\n",
                        "Epoch 5/5\n",
                        "3750/3750 [==============================] - 4s 1ms/step - loss: 0.1259 - accuracy: 0.9642 - val_loss: 0.1157 - val_accuracy: 0.9657\n",
                        "313/313 [==============================] - 1s 1ms/step - loss: 0.1157 - accuracy: 0.9657\n",
                        "[0.11565335839986801, 0.9656999707221985]\n"
                    ]
                }
            ],
            "metadata": {}
        }
    ],
    "metadata": {
        "orig_nbformat": 4,
        "kernelspec": {
            "name": "python3",
            "display_name": "Python 3 (ipykernel)",
            "language": "python"
        },
        "language_info": {
            "name": "python",
            "version": "3.9.5",
            "mimetype": "text/x-python",
            "codemirror_mode": {
                "name": "ipython",
                "version": 3
            },
            "pygments_lexer": "ipython3",
            "nbconvert_exporter": "python",
            "file_extension": ".py"
        }
    },
    "nbformat": 4,
    "nbformat_minor": 2
}