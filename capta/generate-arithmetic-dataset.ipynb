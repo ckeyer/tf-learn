{
 "cells": [
  {
   "cell_type": "code",
   "execution_count": 38,
   "metadata": {},
   "outputs": [
    {
     "name": "stdout",
     "output_type": "stream",
     "text": [
      "(20, 15)\n",
      "tf.Tensor(\n",
      "[[1.         0.9098039  0.972549   0.9529412  0.9411765  0.88235295\n",
      "  0.91764706 0.972549   0.70980394 0.6509804  1.         0.7490196\n",
      "  0.7294118  0.99607843 0.7647059 ]\n",
      " [0.9411765  0.89411765 1.         0.87058824 0.9843137  0.9529412\n",
      "  1.         0.31764707 0.42352942 0.93333334 0.67058825 0.972549\n",
      "  0.8509804  0.78039217 0.9098039 ]\n",
      " [0.92156863 1.         0.8901961  0.90588236 0.3372549  0.30588236\n",
      "  0.28627452 0.3529412  0.3647059  0.8901961  0.95686275 0.96862745\n",
      "  1.         0.9411765  0.96862745]\n",
      " [0.9372549  0.8901961  0.95686275 0.37254903 0.2901961  0.35686275\n",
      "  0.39607844 0.24313726 0.20392157 0.9490196  0.9647059  0.6901961\n",
      "  0.99215686 0.90588236 0.8352941 ]\n",
      " [0.99215686 0.93333334 0.89411765 0.37254903 0.3019608  0.9411765\n",
      "  0.9529412  0.27450982 0.3882353  0.93333334 0.92156863 1.\n",
      "  0.69803923 1.         0.92156863]\n",
      " [0.8666667  0.92156863 0.9882353  0.9019608  0.85882354 0.8666667\n",
      "  0.9411765  0.31764707 0.29803923 0.9254902  0.9411765  0.8666667\n",
      "  1.         0.7176471  0.9607843 ]\n",
      " [0.99215686 0.9607843  0.8156863  0.88235295 1.         0.9490196\n",
      "  0.94509804 0.3372549  0.34901962 0.8235294  0.98039216 0.9843137\n",
      "  0.88235295 0.9764706  0.79607844]\n",
      " [0.9490196  0.85882354 0.8392157  0.93333334 0.83137256 0.9843137\n",
      "  0.9098039  0.23921569 0.41960785 0.9843137  0.8901961  0.90588236\n",
      "  1.         0.9137255  0.9137255 ]\n",
      " [0.95686275 0.9019608  0.92156863 0.7490196  0.94509804 0.9254902\n",
      "  0.99607843 0.29411766 0.28627452 0.8862745  0.96862745 0.9647059\n",
      "  0.9490196  1.         0.90588236]\n",
      " [0.9607843  1.         0.9647059  0.85882354 0.74509805 0.9019608\n",
      "  0.94509804 0.3019608  0.29803923 0.98039216 0.9607843  0.91764706\n",
      "  0.84705883 0.9098039  0.972549  ]\n",
      " [1.         0.8784314  0.95686275 1.         0.9019608  0.77254903\n",
      "  0.85490197 0.3529412  0.29411766 0.9372549  0.8627451  0.972549\n",
      "  0.99215686 0.9764706  0.9882353 ]\n",
      " [0.92156863 0.92156863 0.9843137  0.94509804 0.9647059  0.88235295\n",
      "  0.89411765 0.29411766 0.32941177 0.8352941  0.7529412  0.92941177\n",
      "  0.9882353  0.9098039  0.8       ]\n",
      " [0.9254902  1.         0.9137255  0.9254902  0.90588236 0.9843137\n",
      "  0.85490197 0.35686275 0.3529412  0.84705883 0.8156863  0.8\n",
      "  0.74509805 0.74509805 0.6666667 ]\n",
      " [0.91764706 0.96862745 0.9254902  0.9411765  0.99607843 0.92156863\n",
      "  0.85882354 0.42352942 0.34509805 0.9490196  1.         0.95686275\n",
      "  0.90588236 1.         0.9254902 ]\n",
      " [0.8784314  0.91764706 1.         0.8627451  0.98039216 0.92156863\n",
      "  1.         0.29411766 0.20784314 0.79607844 0.8352941  0.92941177\n",
      "  0.972549   1.         0.92941177]\n",
      " [1.         0.8784314  0.9254902  0.9607843  0.89411765 0.88235295\n",
      "  0.9607843  0.29803923 0.43137255 0.8862745  0.74509805 0.92941177\n",
      "  0.9607843  0.87058824 0.8901961 ]\n",
      " [0.85882354 1.         0.9372549  0.8862745  0.9882353  0.92941177\n",
      "  0.972549   0.25882354 0.2784314  0.9647059  0.88235295 0.7529412\n",
      "  0.9019608  0.95686275 0.95686275]\n",
      " [0.7019608  0.9254902  0.9372549  0.43529412 0.3372549  0.2784314\n",
      "  0.29803923 0.34901962 0.34117648 0.27450982 0.36862746 0.34901962\n",
      "  0.3372549  0.9411765  0.9843137 ]\n",
      " [0.98039216 0.74509805 0.72156864 0.2901961  0.34117648 0.42745098\n",
      "  0.28235295 0.29411766 0.40784314 0.23529412 0.33333334 0.3647059\n",
      "  0.3254902  0.99607843 0.96862745]\n",
      " [0.94509804 0.8784314  0.95686275 0.78431374 0.87058824 0.90588236\n",
      "  0.9647059  0.972549   0.88235295 1.         0.9137255  0.8901961\n",
      "  0.76862746 0.9372549  0.85490197]], shape=(20, 15), dtype=float32)\n"
     ]
    }
   ],
   "source": [
    "import tensorflow as tf\n",
    "\n",
    "def image_load(path):\n",
    "    image = tf.io.read_file(path)\n",
    "    image_tensor=tf.image.decode_jpeg(image,channels=3)\n",
    "    image_tensor=tf.image.rgb_to_grayscale(image_tensor)\n",
    "    image_tensor=tf.cast(image_tensor,tf.float32)\n",
    "    image_tensor=tf.squeeze(image_tensor)\n",
    "    image_tensor=image_tensor/255.\n",
    "    return image_tensor\n",
    "\n",
    "img = image_load('/tmp/capae/1-161149367113-0-808,jpg')\n",
    "print(img.shape)\n",
    "print(img)\n"
   ]
  },
  {
   "cell_type": "code",
   "execution_count": 39,
   "metadata": {},
   "outputs": [
    {
     "name": "stdout",
     "output_type": "stream",
     "text": [
      "3.0\n",
      "11.0\n",
      "0\n",
      "3\n"
     ]
    }
   ],
   "source": [
    "alllabels = \"0123456789+x\"\n",
    "def label_to_index(label):\n",
    "    for i in range(len(alllabels)):\n",
    "        if alllabels[i] == label:\n",
    "            return float(i)\n",
    "\n",
    "print(label_to_index('3'))\n",
    "print(label_to_index('x'))\n",
    "\n",
    "def index_to_label(idx):\n",
    "    return alllabels[idx]\n",
    "\n",
    "print(index_to_label(0))\n",
    "print(index_to_label(3))"
   ]
  },
  {
   "cell_type": "code",
   "execution_count": 47,
   "metadata": {},
   "outputs": [
    {
     "name": "stdout",
     "output_type": "stream",
     "text": [
      "522\n",
      "(522, 20, 15) (522,)\n"
     ]
    }
   ],
   "source": [
    "\n",
    "import numpy as np\n",
    "\n",
    "image_dataset_perelement_numpy=[]\n",
    "image_dataset_labels=[]\n",
    "for root, dirs, files in os.walk(\"/tmp/capae\", topdown=False):\n",
    "    image_count=len(files)\n",
    "    for name in files:\n",
    "        filepath = os.path.join(root, name)\n",
    "        img = image_load(filepath)\n",
    "        image_dataset_perelement_numpy.append(np.array(img))\n",
    "        image_dataset_labels.append(label_to_index(name[0]))\n",
    "\n",
    "image_dataset=np.array(image_dataset_perelement_numpy)\n",
    "all_labels=np.array(image_dataset_labels)\n",
    "\n",
    "print(image_count)\n",
    "print(image_dataset.shape, all_labels.shape)"
   ]
  },
  {
   "cell_type": "code",
   "execution_count": 48,
   "metadata": {},
   "outputs": [
    {
     "name": "stdout",
     "output_type": "stream",
     "text": [
      "(314, 20, 15) (314,)\n",
      "(104, 20, 15) (104,)\n"
     ]
    }
   ],
   "source": [
    "\n",
    "test_count=int(image_count*0.2)\n",
    "train_count=image_count-test_count\n",
    "\n",
    "train_image=image_dataset[test_count:train_count]\n",
    "train_label=all_labels[test_count:train_count]\n",
    "test_image=image_dataset[:test_count]\n",
    "test_label=all_labels[:test_count]\n",
    "\n",
    "print(train_image.shape, train_label.shape)\n",
    "print(test_image.shape, test_label.shape)"
   ]
  },
  {
   "cell_type": "code",
   "execution_count": 49,
   "metadata": {},
   "outputs": [],
   "source": [
    "model = tf.keras.models.Sequential([\n",
    "  tf.keras.layers.Flatten(input_shape=(20, 15)),\n",
    "  tf.keras.layers.Dense(128, activation='relu'),\n",
    "  tf.keras.layers.Dropout(0.2),\n",
    "  tf.keras.layers.Dense(12, activation='softmax')\n",
    "])\n",
    "\n",
    "model.compile(optimizer='adam',\n",
    "              loss='sparse_categorical_crossentropy',\n",
    "              metrics=['accuracy'])"
   ]
  },
  {
   "cell_type": "code",
   "execution_count": 50,
   "metadata": {},
   "outputs": [
    {
     "name": "stdout",
     "output_type": "stream",
     "text": [
      "Epoch 1/15\n",
      "10/10 [==============================] - 0s 2ms/step - loss: 2.4244 - accuracy: 0.2580\n",
      "Epoch 2/15\n",
      "10/10 [==============================] - 0s 2ms/step - loss: 1.6439 - accuracy: 0.5382\n",
      "Epoch 3/15\n",
      "10/10 [==============================] - 0s 2ms/step - loss: 1.2358 - accuracy: 0.7261\n",
      "Epoch 4/15\n",
      "10/10 [==============================] - 0s 2ms/step - loss: 0.9612 - accuracy: 0.7930\n",
      "Epoch 5/15\n",
      "10/10 [==============================] - 0s 1ms/step - loss: 0.7758 - accuracy: 0.8503\n",
      "Epoch 6/15\n",
      "10/10 [==============================] - 0s 2ms/step - loss: 0.5660 - accuracy: 0.9204\n",
      "Epoch 7/15\n",
      "10/10 [==============================] - 0s 2ms/step - loss: 0.4497 - accuracy: 0.9650\n",
      "Epoch 8/15\n",
      "10/10 [==============================] - 0s 2ms/step - loss: 0.3512 - accuracy: 0.9809\n",
      "Epoch 9/15\n",
      "10/10 [==============================] - 0s 2ms/step - loss: 0.2945 - accuracy: 0.9904\n",
      "Epoch 10/15\n",
      "10/10 [==============================] - 0s 2ms/step - loss: 0.2244 - accuracy: 1.0000\n",
      "Epoch 11/15\n",
      "10/10 [==============================] - 0s 2ms/step - loss: 0.1899 - accuracy: 1.0000\n",
      "Epoch 12/15\n",
      "10/10 [==============================] - 0s 2ms/step - loss: 0.1575 - accuracy: 0.9968\n",
      "Epoch 13/15\n",
      "10/10 [==============================] - 0s 2ms/step - loss: 0.1339 - accuracy: 0.9968\n",
      "Epoch 14/15\n",
      "10/10 [==============================] - 0s 2ms/step - loss: 0.1267 - accuracy: 1.0000\n",
      "Epoch 15/15\n",
      "10/10 [==============================] - 0s 2ms/step - loss: 0.1017 - accuracy: 1.0000\n",
      "WARNING:tensorflow:5 out of the last 7 calls to <function Model.make_test_function.<locals>.test_function at 0x145e56550> triggered tf.function retracing. Tracing is expensive and the excessive number of tracings could be due to (1) creating @tf.function repeatedly in a loop, (2) passing tensors with different shapes, (3) passing Python objects instead of tensors. For (1), please define your @tf.function outside of the loop. For (2), @tf.function has experimental_relax_shapes=True option that relaxes argument shapes that can avoid unnecessary retracing. For (3), please refer to https://www.tensorflow.org/guide/function#controlling_retracing and https://www.tensorflow.org/api_docs/python/tf/function for  more details.\n",
      "4/4 - 0s - loss: 0.0904 - accuracy: 1.0000 - 131ms/epoch - 33ms/step\n"
     ]
    },
    {
     "data": {
      "text/plain": [
       "[0.09036552160978317, 1.0]"
      ]
     },
     "execution_count": 50,
     "metadata": {},
     "output_type": "execute_result"
    }
   ],
   "source": [
    "model.fit(train_image, train_label, epochs=15)\n",
    "\n",
    "model.evaluate(test_image,  test_label, verbose=2)\n"
   ]
  },
  {
   "cell_type": "code",
   "execution_count": 51,
   "metadata": {},
   "outputs": [],
   "source": [
    "model.save('arithmetic-001.h5')\n"
   ]
  },
  {
   "cell_type": "code",
   "execution_count": null,
   "metadata": {},
   "outputs": [],
   "source": [
    "\n"
   ]
  },
  {
   "cell_type": "code",
   "execution_count": 52,
   "metadata": {},
   "outputs": [
    {
     "name": "stdout",
     "output_type": "stream",
     "text": [
      "WARNING:tensorflow:5 out of the last 343 calls to <function Model.make_predict_function.<locals>.predict_function at 0x146060c10> triggered tf.function retracing. Tracing is expensive and the excessive number of tracings could be due to (1) creating @tf.function repeatedly in a loop, (2) passing tensors with different shapes, (3) passing Python objects instead of tensors. For (1), please define your @tf.function outside of the loop. For (2), @tf.function has experimental_relax_shapes=True option that relaxes argument shapes that can avoid unnecessary retracing. For (3), please refer to https://www.tensorflow.org/guide/function#controlling_retracing and https://www.tensorflow.org/api_docs/python/tf/function for  more details.\n"
     ]
    },
    {
     "data": {
      "text/plain": [
       "'3'"
      ]
     },
     "execution_count": 52,
     "metadata": {},
     "output_type": "execute_result"
    }
   ],
   "source": [
    "\n",
    "def topResult(result):\n",
    "    topIdx = 0\n",
    "    for i in range(len(result)):\n",
    "        if result[i] > result[topIdx]:\n",
    "            topIdx=i\n",
    "    return index_to_label(topIdx)\n",
    "    # print(topIdx, index_to_label(topIdx), result[topIdx])\n",
    " \n",
    "procmodel = tf.keras.models.load_model(\"arithmetic-001.h5\")\n",
    "\n",
    "imgdata=image_load('/tmp/capae/3-120303536696-0-797,jpg')\n",
    "\n",
    "result=procmodel.predict(np.array([imgdata,]))\n",
    "\n",
    "# for v in np.nditer(np.sort(result), order='C'):\n",
    "#     print(v)\n",
    "# print(len(np.nditer(result, order='C')))\n",
    "result = result[0].tolist()\n",
    "topResult(result)\n",
    "# for i in range(len(result)):\n",
    "#     # print(i)\n",
    "#     print(i, index_to_label(i), result[i])\n"
   ]
  },
  {
   "cell_type": "code",
   "execution_count": 53,
   "metadata": {},
   "outputs": [
    {
     "name": "stdout",
     "output_type": "stream",
     "text": [
      "546x\n"
     ]
    }
   ],
   "source": [
    "def predict(imgs):\n",
    "    imgdatas = []\n",
    "    for img in imgs:\n",
    "        imgdatas.append(image_load(img))\n",
    "    result = procmodel.predict(np.array(imgdatas))\n",
    "    resultStr = ''\n",
    "    for i in range(len(imgs)):\n",
    "        resultStr += topResult(result[i].tolist())\n",
    "    return resultStr\n",
    "\n",
    "res = predict([\n",
    "    '/tmp/capae/5-129787508987-2-799,jpg',\n",
    "    '/tmp/capae/4-120693185287-2-798,jpg',\n",
    "    '/tmp/capae/6-154968900543-2-804,jpg',\n",
    "    '/tmp/capae/7-085328446320-2-788,jpg',\n",
    "    '/tmp/capae/9-056013241349-2-843,jpg',\n",
    "    '/tmp/capae/x-195631212326-1-818.jpg',\n",
    "    '/tmp/capae/x-082466455795-1-787,jpg',])\n",
    "print(res)\n",
    "\n",
    "# curl -F'count=1' -F 'file0=@\"/tmp/capae/2-033622432474-0-778.jpg\";filename=\"dqf_gng_\"' http://localhost:5000/"
   ]
  }
 ],
 "metadata": {
  "interpreter": {
   "hash": "541649e5934e024eedcf6b32ceb5760adff4f31b8d11651c2bbc09e50763baa6"
  },
  "kernelspec": {
   "display_name": "Python 3.9.7 64-bit ('tf-learn-ELLEaoWI': pipenv)",
   "language": "python",
   "name": "python3"
  },
  "language_info": {
   "codemirror_mode": {
    "name": "ipython",
    "version": 3
   },
   "file_extension": ".py",
   "mimetype": "text/x-python",
   "name": "python",
   "nbconvert_exporter": "python",
   "pygments_lexer": "ipython3",
   "version": "3.9.7"
  },
  "orig_nbformat": 4
 },
 "nbformat": 4,
 "nbformat_minor": 2
}
