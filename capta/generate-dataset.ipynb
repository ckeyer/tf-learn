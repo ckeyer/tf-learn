{
 "cells": [
  {
   "cell_type": "code",
   "execution_count": 97,
   "metadata": {},
   "outputs": [
    {
     "name": "stdout",
     "output_type": "stream",
     "text": [
      "(26, 16)\n",
      "tf.Tensor(\n",
      "[[0.95686275 1.         0.9411765  1.         0.95686275 0.9843137\n",
      "  0.99215686 1.         0.99215686 0.9882353  1.         0.9529412\n",
      "  1.         0.95686275 0.96862745 1.        ]\n",
      " [1.         1.         1.         0.9882353  0.92941177 1.\n",
      "  0.9411765  0.99215686 0.9019608  1.         0.9764706  0.92941177\n",
      "  0.9372549  0.9764706  0.99215686 1.        ]\n",
      " [0.9254902  1.         0.96862745 0.8666667  1.         0.98039216\n",
      "  0.9843137  0.972549   1.         0.9529412  0.9098039  1.\n",
      "  1.         0.9843137  1.         0.9490196 ]\n",
      " [0.98039216 0.9411765  1.         1.         0.87058824 0.9529412\n",
      "  1.         0.9843137  0.99607843 0.9647059  1.         0.95686275\n",
      "  0.9372549  0.9882353  0.95686275 0.99607843]\n",
      " [1.         0.92156863 0.98039216 0.9254902  0.98039216 1.\n",
      "  0.9254902  1.         0.8901961  1.         0.8745098  0.99607843\n",
      "  1.         0.9843137  1.         1.        ]\n",
      " [0.9647059  1.         0.9607843  1.         0.99215686 0.9764706\n",
      "  0.91764706 0.972549   1.         0.91764706 1.         0.9647059\n",
      "  0.5019608  0.9647059  0.9098039  0.98039216]\n",
      " [1.         0.9372549  1.         1.         0.06666667 0.10980392\n",
      "  0.21568628 0.09019608 0.16078432 0.03529412 1.         0.9764706\n",
      "  0.40784314 1.         0.90588236 1.        ]\n",
      " [0.9843137  0.4509804  0.9764706  0.07450981 0.11764706 0.14117648\n",
      "  0.07450981 0.1254902  0.08627451 0.1254902  0.09411765 1.\n",
      "  1.         0.34509805 1.         0.96862745]\n",
      " [0.4627451  0.9882353  0.45490196 0.08627451 0.99607843 1.\n",
      "  0.9490196  1.         0.08235294 0.1882353  0.08627451 0.07450981\n",
      "  1.         0.40784314 0.9764706  0.9490196 ]\n",
      " [0.4509804  1.         0.9411765  0.49803922 0.9764706  0.40392157\n",
      "  1.         0.9764706  0.99215686 0.01176471 0.20392157 0.21960784\n",
      "  0.8352941  0.6        1.         0.9764706 ]\n",
      " [0.49019608 0.9647059  1.         0.9529412  0.40392157 0.4392157\n",
      "  0.43137255 1.         0.96862745 0.19607843 0.         0.13333334\n",
      "  1.         0.8980392  0.3882353  0.9529412 ]\n",
      " [0.95686275 0.93333334 0.9137255  1.         0.9490196  0.49411765\n",
      "  0.9098039  0.40784314 0.972549   0.11372549 0.07058824 1.\n",
      "  0.47843137 0.9490196  0.42352942 1.        ]\n",
      " [0.50980395 0.5254902  0.43137255 0.38431373 0.5058824  0.39215687\n",
      "  0.92941177 0.9529412  0.13333334 0.13333334 1.         0.9882353\n",
      "  1.         0.43137255 1.         0.3882353 ]\n",
      " [0.8745098  0.8666667  0.9764706  1.         0.972549   0.42352942\n",
      "  0.5294118  0.12156863 0.2        0.41960785 0.9019608  0.98039216\n",
      "  0.93333334 0.972549   0.3882353  0.41960785]\n",
      " [1.         1.         1.         0.94509804 0.89411765 0.14117648\n",
      "  0.14509805 0.08235294 0.9411765  0.49019608 1.         1.\n",
      "  0.9254902  1.         0.9843137  0.40784314]\n",
      " [0.96862745 1.         0.90588236 1.         0.16078432 0.07450981\n",
      "  0.13333334 0.9764706  0.4862745  0.94509804 0.4745098  0.9843137\n",
      "  0.96862745 0.99215686 0.9411765  1.        ]\n",
      " [0.9764706  1.         0.9882353  0.00392157 0.22745098 0.04705882\n",
      "  0.42352942 1.         1.         0.42352942 0.9764706  0.4627451\n",
      "  1.         0.94509804 1.         0.95686275]\n",
      " [0.4509804  0.44313726 0.90588236 0.15686275 0.14509805 0.11372549\n",
      "  0.11372549 0.04313726 0.07843138 0.13333334 0.18431373 0.03921569\n",
      "  1.         1.         0.8901961  0.99607843]\n",
      " [0.9529412  1.         0.54509807 0.05882353 0.10980392 0.11764706\n",
      "  0.1254902  0.13725491 0.14509805 0.07450981 0.01568628 0.1764706\n",
      "  0.8862745  0.9529412  0.96862745 0.9882353 ]\n",
      " [1.         0.99607843 0.9529412  1.         0.9843137  0.9764706\n",
      "  0.48235294 0.9607843  0.9647059  0.9764706  1.         0.90588236\n",
      "  1.         0.99215686 1.         0.99215686]\n",
      " [1.         0.90588236 1.         0.35686275 1.         0.98039216\n",
      "  0.9647059  0.96862745 1.         0.95686275 1.         0.9607843\n",
      "  0.9882353  0.94509804 0.98039216 0.9490196 ]\n",
      " [0.39215687 0.44313726 1.         0.9882353  0.4392157  0.92941177\n",
      "  1.         0.4509804  0.93333334 1.         0.8784314  0.98039216\n",
      "  0.99607843 0.99607843 1.         1.        ]\n",
      " [0.44705883 0.93333334 0.3647059  0.54509807 0.38431373 0.44313726\n",
      "  0.4509804  0.9372549  0.48235294 0.99215686 1.         0.9254902\n",
      "  0.99607843 1.         0.94509804 1.        ]\n",
      " [0.4392157  0.9490196  1.         0.9411765  0.972549   0.98039216\n",
      "  0.4509804  0.9843137  0.99215686 0.4392157  0.9490196  1.\n",
      "  0.99215686 0.9843137  0.99215686 0.93333334]\n",
      " [0.9764706  0.5137255  0.9529412  1.         0.9882353  0.99215686\n",
      "  0.9882353  0.5019608  0.40392157 1.         0.48235294 0.96862745\n",
      "  0.9843137  1.         0.96862745 1.        ]\n",
      " [0.48235294 0.4        0.4862745  0.3882353  0.4627451  0.38431373\n",
      "  0.45490196 0.90588236 0.43137255 0.95686275 0.92941177 0.5411765\n",
      "  0.9882353  1.         1.         0.95686275]], shape=(26, 16), dtype=float32)\n"
     ]
    }
   ],
   "source": [
    "import tensorflow as tf\n",
    "\n",
    "def image_load(path):\n",
    "    image = tf.io.read_file(path)\n",
    "    image_tensor=tf.image.decode_jpeg(image,channels=3)\n",
    "    image_tensor=tf.image.rgb_to_grayscale(image_tensor)\n",
    "    image_tensor=tf.cast(image_tensor,tf.float32)\n",
    "    image_tensor=tf.squeeze(image_tensor)\n",
    "    image_tensor=image_tensor/255.\n",
    "    return image_tensor\n",
    "\n",
    "\n",
    "img = image_load('/tmp/capfa/2-002687613351-2-007-39.jpg')\n",
    "print(img.shape)\n",
    "print(img)\n"
   ]
  },
  {
   "cell_type": "code",
   "execution_count": 98,
   "metadata": {},
   "outputs": [
    {
     "name": "stdout",
     "output_type": "stream",
     "text": [
      "3.0\n",
      "0.0\n",
      "0\n",
      "9\n"
     ]
    }
   ],
   "source": [
    "\n",
    "alllabels = \"0123456789\"\n",
    "\n",
    "def label_to_index(label):\n",
    "    for i in range(len(alllabels)):\n",
    "        if alllabels[i] == label:\n",
    "            return float(i)\n",
    "\n",
    "print(label_to_index('3'))\n",
    "print(label_to_index('0'))\n",
    "\n",
    "def index_to_label(idx):\n",
    "    return alllabels[idx]\n",
    "\n",
    "print(index_to_label(0))\n",
    "print(index_to_label(9))"
   ]
  },
  {
   "cell_type": "code",
   "execution_count": 105,
   "metadata": {},
   "outputs": [
    {
     "name": "stdout",
     "output_type": "stream",
     "text": [
      "2067\n",
      "(2067, 26, 16) (2067,)\n"
     ]
    }
   ],
   "source": [
    "\n",
    "import numpy as np\n",
    "\n",
    "image_dataset_perelement_numpy=[]\n",
    "image_dataset_labels=[]\n",
    "for root, dirs, files in os.walk(\"/tmp/capfa\", topdown=False):\n",
    "    image_count=len(files)\n",
    "    for name in files:\n",
    "        filepath = os.path.join(root, name)\n",
    "        try:\n",
    "            img = image_load(filepath)\n",
    "            image_dataset_perelement_numpy.append(np.array(img))\n",
    "            image_dataset_labels.append(label_to_index(name[0]))\n",
    "        finally:\n",
    "            None\n",
    "            # print('failed', filepath)\n",
    "        \n",
    "\n",
    "image_dataset=np.array(image_dataset_perelement_numpy)\n",
    "all_labels=np.array(image_dataset_labels)\n",
    "\n",
    "print(image_count)\n",
    "print(image_dataset.shape, all_labels.shape)"
   ]
  },
  {
   "cell_type": "code",
   "execution_count": 129,
   "metadata": {},
   "outputs": [
    {
     "name": "stdout",
     "output_type": "stream",
     "text": [
      "(1241, 26, 16) (1241,)\n",
      "(413, 26, 16) (413,)\n"
     ]
    }
   ],
   "source": [
    "\n",
    "test_count=int(image_count*0.2)\n",
    "train_count=image_count-test_count\n",
    "\n",
    "train_image=image_dataset[test_count:train_count]\n",
    "train_label=all_labels[test_count:train_count]\n",
    "test_image=image_dataset[:test_count]\n",
    "test_label=all_labels[:test_count]\n",
    "\n",
    "print(train_image.shape, train_label.shape)\n",
    "print(test_image.shape, test_label.shape)"
   ]
  },
  {
   "cell_type": "code",
   "execution_count": 132,
   "metadata": {},
   "outputs": [
    {
     "name": "stdout",
     "output_type": "stream",
     "text": [
      "Epoch 1/35\n",
      "39/39 [==============================] - 1s 3ms/step - loss: 2.1632 - accuracy: 0.1958\n",
      "Epoch 2/35\n",
      "39/39 [==============================] - 0s 4ms/step - loss: 1.6445 - accuracy: 0.4037\n",
      "Epoch 3/35\n",
      "39/39 [==============================] - 0s 4ms/step - loss: 1.3180 - accuracy: 0.5479\n",
      "Epoch 4/35\n",
      "39/39 [==============================] - 0s 4ms/step - loss: 1.0927 - accuracy: 0.6189\n",
      "Epoch 5/35\n",
      "39/39 [==============================] - 0s 3ms/step - loss: 0.8747 - accuracy: 0.7139\n",
      "Epoch 6/35\n",
      "39/39 [==============================] - 0s 3ms/step - loss: 0.7334 - accuracy: 0.7550\n",
      "Epoch 7/35\n",
      "39/39 [==============================] - 0s 4ms/step - loss: 0.5813 - accuracy: 0.8026\n",
      "Epoch 8/35\n",
      "39/39 [==============================] - 0s 4ms/step - loss: 0.4302 - accuracy: 0.8485\n",
      "Epoch 9/35\n",
      "39/39 [==============================] - 0s 4ms/step - loss: 0.3817 - accuracy: 0.8735\n",
      "Epoch 10/35\n",
      "39/39 [==============================] - 0s 4ms/step - loss: 0.2728 - accuracy: 0.9170\n",
      "Epoch 11/35\n",
      "39/39 [==============================] - 0s 4ms/step - loss: 0.2318 - accuracy: 0.9226\n",
      "Epoch 12/35\n",
      "39/39 [==============================] - 0s 4ms/step - loss: 0.1731 - accuracy: 0.9420\n",
      "Epoch 13/35\n",
      "39/39 [==============================] - 0s 4ms/step - loss: 0.1514 - accuracy: 0.9468\n",
      "Epoch 14/35\n",
      "39/39 [==============================] - 0s 5ms/step - loss: 0.1133 - accuracy: 0.9621\n",
      "Epoch 15/35\n",
      "39/39 [==============================] - 0s 4ms/step - loss: 0.1669 - accuracy: 0.9444\n",
      "Epoch 16/35\n",
      "39/39 [==============================] - 0s 4ms/step - loss: 0.0898 - accuracy: 0.9718\n",
      "Epoch 17/35\n",
      "39/39 [==============================] - 0s 4ms/step - loss: 0.0668 - accuracy: 0.9807\n",
      "Epoch 18/35\n",
      "39/39 [==============================] - 0s 5ms/step - loss: 0.0299 - accuracy: 0.9936\n",
      "Epoch 19/35\n",
      "39/39 [==============================] - 0s 5ms/step - loss: 0.1107 - accuracy: 0.9637\n",
      "Epoch 20/35\n",
      "39/39 [==============================] - 0s 5ms/step - loss: 0.1905 - accuracy: 0.9371\n",
      "Epoch 21/35\n",
      "39/39 [==============================] - 0s 5ms/step - loss: 0.0791 - accuracy: 0.9782\n",
      "Epoch 22/35\n",
      "39/39 [==============================] - 0s 4ms/step - loss: 0.0219 - accuracy: 0.9960\n",
      "Epoch 23/35\n",
      "39/39 [==============================] - 0s 4ms/step - loss: 0.0057 - accuracy: 1.0000\n",
      "Epoch 24/35\n",
      "39/39 [==============================] - 0s 4ms/step - loss: 0.0028 - accuracy: 1.0000\n",
      "Epoch 25/35\n",
      "39/39 [==============================] - 0s 4ms/step - loss: 0.0015 - accuracy: 1.0000\n",
      "Epoch 26/35\n",
      "39/39 [==============================] - 0s 4ms/step - loss: 0.0010 - accuracy: 1.0000\n",
      "Epoch 27/35\n",
      "39/39 [==============================] - 0s 3ms/step - loss: 8.0710e-04 - accuracy: 1.0000\n",
      "Epoch 28/35\n",
      "39/39 [==============================] - 0s 3ms/step - loss: 7.3841e-04 - accuracy: 1.0000\n",
      "Epoch 29/35\n",
      "39/39 [==============================] - 0s 3ms/step - loss: 7.3827e-04 - accuracy: 1.0000\n",
      "Epoch 30/35\n",
      "39/39 [==============================] - 0s 4ms/step - loss: 5.9436e-04 - accuracy: 1.0000\n",
      "Epoch 31/35\n",
      "39/39 [==============================] - 0s 3ms/step - loss: 5.6920e-04 - accuracy: 1.0000\n",
      "Epoch 32/35\n",
      "39/39 [==============================] - 0s 4ms/step - loss: 5.9527e-04 - accuracy: 1.0000\n",
      "Epoch 33/35\n",
      "39/39 [==============================] - 0s 4ms/step - loss: 7.9176e-04 - accuracy: 1.0000\n",
      "Epoch 34/35\n",
      "39/39 [==============================] - 0s 4ms/step - loss: 3.9028e-04 - accuracy: 1.0000\n",
      "Epoch 35/35\n",
      "39/39 [==============================] - 0s 4ms/step - loss: 3.6633e-04 - accuracy: 1.0000\n",
      "13/13 - 0s - loss: 0.4392 - accuracy: 0.8910 - 160ms/epoch - 12ms/step\n"
     ]
    },
    {
     "data": {
      "text/plain": [
       "[0.43917348980903625, 0.8910411596298218]"
      ]
     },
     "execution_count": 132,
     "metadata": {},
     "output_type": "execute_result"
    }
   ],
   "source": [
    "model = tf.keras.models.Sequential([\n",
    "    tf.keras.layers.Flatten(input_shape=(26, 16)),\n",
    "    tf.keras.layers.Dense(256, activation='gelu'),\n",
    "    tf.keras.layers.Dense(512, activation='gelu'),\n",
    "    tf.keras.layers.Dense(512, activation='gelu'),\n",
    "    tf.keras.layers.Dropout(0.2),\n",
    "    tf.keras.layers.Dense(10, activation='softmax')\n",
    "])\n",
    "\n",
    "model.compile(optimizer='adam',\n",
    "              loss='sparse_categorical_crossentropy',\n",
    "              metrics=['accuracy'])\n",
    "\n",
    "model.fit(train_image, train_label, epochs=35)\n",
    "\n",
    "model.evaluate(test_image,  test_label, verbose=2)\n"
   ]
  },
  {
   "cell_type": "code",
   "execution_count": 133,
   "metadata": {},
   "outputs": [
    {
     "name": "stdout",
     "output_type": "stream",
     "text": [
      "Epoch 1/25\n",
      "39/39 [==============================] - 0s 5ms/step - loss: 3.5503e-04 - accuracy: 1.0000\n",
      "Epoch 2/25\n",
      "39/39 [==============================] - 0s 4ms/step - loss: 3.1623e-04 - accuracy: 1.0000\n",
      "Epoch 3/25\n",
      "39/39 [==============================] - 0s 4ms/step - loss: 2.8692e-04 - accuracy: 1.0000\n",
      "Epoch 4/25\n",
      "39/39 [==============================] - 0s 5ms/step - loss: 2.8003e-04 - accuracy: 1.0000\n",
      "Epoch 5/25\n",
      "39/39 [==============================] - 0s 4ms/step - loss: 4.7306e-04 - accuracy: 1.0000\n",
      "Epoch 6/25\n",
      "39/39 [==============================] - 0s 4ms/step - loss: 2.4812e-04 - accuracy: 1.0000\n",
      "Epoch 7/25\n",
      "39/39 [==============================] - 0s 4ms/step - loss: 2.6529e-04 - accuracy: 1.0000\n",
      "Epoch 8/25\n",
      "39/39 [==============================] - 0s 4ms/step - loss: 2.7837e-04 - accuracy: 1.0000\n",
      "Epoch 9/25\n",
      "39/39 [==============================] - 0s 3ms/step - loss: 2.0177e-04 - accuracy: 1.0000\n",
      "Epoch 10/25\n",
      "39/39 [==============================] - 0s 3ms/step - loss: 2.1468e-04 - accuracy: 1.0000\n",
      "Epoch 11/25\n",
      "39/39 [==============================] - 0s 3ms/step - loss: 2.2261e-04 - accuracy: 1.0000\n",
      "Epoch 12/25\n",
      "39/39 [==============================] - 0s 4ms/step - loss: 1.6228e-04 - accuracy: 1.0000\n",
      "Epoch 13/25\n",
      "39/39 [==============================] - 0s 4ms/step - loss: 1.2595e-04 - accuracy: 1.0000\n",
      "Epoch 14/25\n",
      "39/39 [==============================] - 0s 4ms/step - loss: 1.3077e-04 - accuracy: 1.0000\n",
      "Epoch 15/25\n",
      "39/39 [==============================] - 0s 4ms/step - loss: 1.4731e-04 - accuracy: 1.0000\n",
      "Epoch 16/25\n",
      "39/39 [==============================] - 0s 4ms/step - loss: 1.4817e-04 - accuracy: 1.0000\n",
      "Epoch 17/25\n",
      "39/39 [==============================] - 0s 5ms/step - loss: 1.5872e-04 - accuracy: 1.0000\n",
      "Epoch 18/25\n",
      "39/39 [==============================] - 0s 4ms/step - loss: 1.2194e-04 - accuracy: 1.0000\n",
      "Epoch 19/25\n",
      "39/39 [==============================] - 0s 4ms/step - loss: 1.2648e-04 - accuracy: 1.0000\n",
      "Epoch 20/25\n",
      "39/39 [==============================] - 0s 4ms/step - loss: 1.0667e-04 - accuracy: 1.0000\n",
      "Epoch 21/25\n",
      "39/39 [==============================] - 0s 4ms/step - loss: 1.3057e-04 - accuracy: 1.0000\n",
      "Epoch 22/25\n",
      "39/39 [==============================] - 0s 3ms/step - loss: 1.3979e-04 - accuracy: 1.0000\n",
      "Epoch 23/25\n",
      "39/39 [==============================] - 0s 3ms/step - loss: 2.8919e-04 - accuracy: 1.0000\n",
      "Epoch 24/25\n",
      "39/39 [==============================] - 0s 3ms/step - loss: 2.0402e-04 - accuracy: 1.0000\n",
      "Epoch 25/25\n",
      "39/39 [==============================] - 0s 3ms/step - loss: 1.6475e-04 - accuracy: 1.0000\n",
      "13/13 - 0s - loss: 0.5348 - accuracy: 0.8910 - 30ms/epoch - 2ms/step\n"
     ]
    },
    {
     "data": {
      "text/plain": [
       "[0.5348129272460938, 0.8910411596298218]"
      ]
     },
     "execution_count": 133,
     "metadata": {},
     "output_type": "execute_result"
    }
   ],
   "source": [
    "model.fit(train_image, train_label, epochs=25)\n",
    "\n",
    "model.evaluate(test_image,  test_label, verbose=2)\n"
   ]
  },
  {
   "cell_type": "code",
   "execution_count": 134,
   "metadata": {},
   "outputs": [],
   "source": [
    "model.save('kjjycapta-003.h5')\n"
   ]
  },
  {
   "cell_type": "code",
   "execution_count": 48,
   "metadata": {},
   "outputs": [
    {
     "name": "stdout",
     "output_type": "stream",
     "text": [
      "2\n",
      "z\n"
     ]
    }
   ],
   "source": [
    "\n"
   ]
  },
  {
   "cell_type": "code",
   "execution_count": 104,
   "metadata": {},
   "outputs": [
    {
     "name": "stdout",
     "output_type": "stream",
     "text": [
      "WARNING:tensorflow:5 out of the last 5 calls to <function Model.make_predict_function.<locals>.predict_function at 0x15138ff70> triggered tf.function retracing. Tracing is expensive and the excessive number of tracings could be due to (1) creating @tf.function repeatedly in a loop, (2) passing tensors with different shapes, (3) passing Python objects instead of tensors. For (1), please define your @tf.function outside of the loop. For (2), @tf.function has experimental_relax_shapes=True option that relaxes argument shapes that can avoid unnecessary retracing. For (3), please refer to https://www.tensorflow.org/guide/function#controlling_retracing and https://www.tensorflow.org/api_docs/python/tf/function for  more details.\n"
     ]
    },
    {
     "data": {
      "text/plain": [
       "'2'"
      ]
     },
     "execution_count": 104,
     "metadata": {},
     "output_type": "execute_result"
    }
   ],
   "source": [
    "\n",
    "def topResult(result):\n",
    "    topIdx = 0\n",
    "    for i in range(len(result)):\n",
    "        if result[i] > result[topIdx]:\n",
    "            topIdx=i\n",
    "    return index_to_label(topIdx)\n",
    "    # print(topIdx, index_to_label(topIdx), result[topIdx])\n",
    " \n",
    "\n",
    "procmodel = tf.keras.models.load_model(\"kjjycapta-003.h5\")\n",
    "\n",
    "imgdata = image_load('/tmp/capfa/2-002687613351-2-007-39.jpg')\n",
    "\n",
    "result=procmodel.predict(np.array([imgdata,]))\n",
    "\n",
    "# for v in np.nditer(np.sort(result), order='C'):\n",
    "#     print(v)\n",
    "# print(len(np.nditer(result, order='C')))\n",
    "result = result[0].tolist()\n",
    "topResult(result)\n",
    "# for i in range(len(result)):\n",
    "#     # print(i)\n",
    "#     print(i, index_to_label(i), result[i])\n"
   ]
  },
  {
   "cell_type": "code",
   "execution_count": 85,
   "metadata": {},
   "outputs": [],
   "source": [
    "for root, dirs, files in os.walk(\"/tmp/capac\", topdown=False):\n",
    "    for name in files:\n",
    "        filepath = os.path.join(root, name)\n",
    "        imgdata = image_load(filepath)\n",
    "        result=procmodel.predict(np.array([imgdata,]))\n",
    "        result = result[0].tolist()\n",
    "        newname = '%s-%s'%(topResult(result), name)\n",
    "        newpath = os.path.join(root, newname)\n",
    "        # print(filepath, newpath)\n",
    "        os.rename(filepath, newpath)\n",
    "\n",
    "\n"
   ]
  },
  {
   "cell_type": "code",
   "execution_count": 87,
   "metadata": {},
   "outputs": [
    {
     "name": "stdout",
     "output_type": "stream",
     "text": [
      "fnpx\n"
     ]
    }
   ],
   "source": [
    "def predict(imgs):\n",
    "    imgdatas = []\n",
    "    for img in imgs:\n",
    "        imgdatas.append(image_load(img))\n",
    "    result = procmodel.predict(np.array(imgdatas))\n",
    "    resultStr = ''\n",
    "    for i in range(len(imgs)):\n",
    "        resultStr += topResult(result[i].tolist())\n",
    "    return resultStr\n",
    "\n",
    "res = predict([\n",
    "    '/tmp/capac/n-sy57u_up-0-000,jpg',\n",
    "    '/tmp/capac/p-sy57u_up-1-000,jpg',\n",
    "    '/tmp/capac/x-sy57u_up-2-000,jpg',\n",
    "    '/tmp/capac/f-sy57u_up-3-000,jpg',])\n",
    "print(res)\n"
   ]
  }
 ],
 "metadata": {
  "interpreter": {
   "hash": "541649e5934e024eedcf6b32ceb5760adff4f31b8d11651c2bbc09e50763baa6"
  },
  "kernelspec": {
   "display_name": "Python 3.9.7 64-bit ('tf-learn-ELLEaoWI': pipenv)",
   "language": "python",
   "name": "python3"
  },
  "language_info": {
   "codemirror_mode": {
    "name": "ipython",
    "version": 3
   },
   "file_extension": ".py",
   "mimetype": "text/x-python",
   "name": "python",
   "nbconvert_exporter": "python",
   "pygments_lexer": "ipython3",
   "version": "3.9.7"
  },
  "orig_nbformat": 4
 },
 "nbformat": 4,
 "nbformat_minor": 2
}
