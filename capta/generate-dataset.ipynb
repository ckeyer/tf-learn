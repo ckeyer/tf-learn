{
 "cells": [
  {
   "cell_type": "code",
   "execution_count": 20,
   "metadata": {},
   "outputs": [
    {
     "name": "stdout",
     "output_type": "stream",
     "text": [
      "(20, 17)\n",
      "tf.Tensor(\n",
      "[[0.9372549  1.         0.99607843 0.99215686 1.         0.8156863\n",
      "  0.654902   0.6627451  0.83137256 0.99215686 1.         0.9882353\n",
      "  0.99607843 0.9882353  0.9764706  1.         0.99215686]\n",
      " [1.         1.         0.95686275 0.9607843  1.         0.9843137\n",
      "  0.8156863  0.62352943 0.49411765 0.6666667  0.83137256 0.9607843\n",
      "  1.         0.99607843 0.9529412  1.         1.        ]\n",
      " [0.99607843 0.9647059  1.         1.         0.88235295 0.7529412\n",
      "  0.7019608  0.654902   0.6666667  0.57254905 0.48235294 0.58431375\n",
      "  0.8509804  1.         1.         0.972549   1.        ]\n",
      " [0.99607843 1.         0.9843137  0.8039216  0.6392157  0.6784314\n",
      "  0.8235294  0.96862745 0.9647059  0.90588236 0.7372549  0.5372549\n",
      "  0.5254902  0.7411765  0.94509804 1.         0.99215686]\n",
      " [0.9843137  1.         0.827451   0.49019608 0.654902   1.\n",
      "  1.         0.9019608  0.81960785 0.9254902  1.         0.8156863\n",
      "  0.47058824 0.4862745  0.70980394 0.76862746 0.93333334]\n",
      " [0.9607843  1.         0.78431374 0.4392157  0.6117647  0.87058824\n",
      "  0.64705884 0.44313726 0.54901963 0.5568628  0.8666667  0.9411765\n",
      "  0.6        0.53333336 0.69803923 0.64705884 0.63529414]\n",
      " [1.         1.         0.88235295 0.53333336 0.4        0.45490196\n",
      "  0.40784314 0.50980395 0.4862745  0.42352942 0.83137256 0.99215686\n",
      "  0.6        0.6117647  0.94509804 0.91764706 0.7411765 ]\n",
      " [0.9843137  0.98039216 1.         0.7254902  0.47843137 0.59607846\n",
      "  0.7372549  0.9137255  0.5882353  0.47058824 0.85490197 0.9607843\n",
      "  0.53333336 0.654902   1.         0.9529412  0.99607843]\n",
      " [0.9647059  1.         0.96862745 0.98039216 0.89411765 0.8901961\n",
      "  1.         0.9019608  0.5137255  0.73333335 1.         0.75686276\n",
      "  0.54901963 0.8862745  1.         0.972549   1.        ]\n",
      " [1.         0.9411765  1.         0.99215686 0.94509804 1.\n",
      "  0.88235295 0.58431375 0.78039217 0.972549   0.9098039  0.62352943\n",
      "  0.6666667  0.95686275 1.         1.         1.        ]\n",
      " [1.         0.98039216 1.         0.99607843 1.         0.8862745\n",
      "  0.6392157  0.7607843  1.         0.89411765 0.6627451  0.69411767\n",
      "  0.93333334 0.9882353  0.99215686 0.9647059  1.        ]\n",
      " [0.9647059  1.         0.9647059  1.         0.94509804 0.63529414\n",
      "  0.68235296 1.         0.9411765  0.68235296 0.67058825 0.91764706\n",
      "  1.         0.9843137  1.         1.         1.        ]\n",
      " [1.         0.9882353  1.         0.9098039  0.64705884 0.72156864\n",
      "  0.96862745 0.9372549  0.59607846 0.53333336 0.70980394 0.74509805\n",
      "  0.7411765  0.6745098  0.80784315 0.9647059  1.        ]\n",
      " [1.         0.9411765  1.         0.67058825 0.45882353 0.8666667\n",
      "  1.         0.94509804 0.7882353  0.8117647  0.88235295 0.7882353\n",
      "  0.8352941  0.5882353  0.62352943 0.9764706  1.        ]\n",
      " [1.         0.9764706  1.         0.5686275  0.42352942 0.7882353\n",
      "  0.92941177 1.         1.         1.         0.9764706  0.98039216\n",
      "  1.         0.6156863  0.654902   0.99215686 1.        ]\n",
      " [0.99215686 1.         1.         0.6745098  0.39215687 0.6666667\n",
      "  0.9843137  0.95686275 0.9490196  0.98039216 0.99607843 1.\n",
      "  0.94509804 0.57254905 0.84705883 1.         1.        ]\n",
      " [1.         0.972549   1.         0.8235294  0.4392157  0.36078432\n",
      "  0.49803922 0.49019608 0.54901963 0.60784316 0.7019608  0.8352941\n",
      "  0.7882353  0.5294118  0.7882353  0.99607843 1.        ]\n",
      " [1.         0.99607843 1.         0.8627451  0.5529412  0.4392157\n",
      "  0.47058824 0.41960785 0.36078432 0.42352942 0.39215687 0.4\n",
      "  0.46666667 0.5058824  0.87058824 1.         1.        ]\n",
      " [0.972549   0.9843137  1.         0.9882353  0.8784314  0.83137256\n",
      "  0.83137256 0.79607844 0.8039216  0.88235295 0.8392157  0.8117647\n",
      "  0.8627451  0.89411765 1.         1.         1.        ]\n",
      " [0.9882353  1.         1.         1.         1.         1.\n",
      "  1.         1.         1.         1.         0.9843137  1.\n",
      "  1.         0.972549   1.         0.9647059  1.        ]], shape=(20, 17), dtype=float32)\n"
     ]
    }
   ],
   "source": [
    "import tensorflow as tf\n",
    "\n",
    "def image_load(path):\n",
    "    image = tf.io.read_file(path)\n",
    "    image_tensor=tf.image.decode_jpeg(image,channels=3)\n",
    "    image_tensor=tf.image.rgb_to_grayscale(image_tensor)\n",
    "    image_tensor=tf.cast(image_tensor,tf.float32)\n",
    "    image_tensor=tf.squeeze(image_tensor)\n",
    "    image_tensor=image_tensor/255.\n",
    "    return image_tensor\n",
    "\n",
    "img = image_load('/tmp/capab/2-3g2vx6rz-0-053,jpg')\n",
    "print(img.shape)\n",
    "print(img)\n"
   ]
  },
  {
   "cell_type": "code",
   "execution_count": 76,
   "metadata": {},
   "outputs": [
    {
     "name": "stdout",
     "output_type": "stream",
     "text": [
      "1.0\n",
      "30.0\n",
      "2\n",
      "z\n"
     ]
    }
   ],
   "source": [
    "def label_to_index(label):\n",
    "    alllabels = \"23456789abcdefghjkmnpqrstuvwxyz\"\n",
    "    for i in range(len(alllabels)):\n",
    "        if alllabels[i] == label:\n",
    "            return float(i)\n",
    "\n",
    "print(label_to_index('3'))\n",
    "print(label_to_index('z'))\n",
    "\n",
    "def index_to_label(idx):\n",
    "    alllabels = \"23456789abcdefghjkmnpqrstuvwxyz\"\n",
    "    return alllabels[idx]\n",
    "\n",
    "print(index_to_label(0))\n",
    "print(index_to_label(30))"
   ]
  },
  {
   "cell_type": "code",
   "execution_count": 31,
   "metadata": {},
   "outputs": [
    {
     "name": "stdout",
     "output_type": "stream",
     "text": [
      "3284\n",
      "(3284, 20, 17) (3284,)\n"
     ]
    }
   ],
   "source": [
    "\n",
    "import numpy as np\n",
    "\n",
    "image_dataset_perelement_numpy=[]\n",
    "image_dataset_labels=[]\n",
    "for root, dirs, files in os.walk(\"/tmp/capab\", topdown=False):\n",
    "    image_count=len(files)\n",
    "    for name in files:\n",
    "        filepath = os.path.join(root, name)\n",
    "        img = image_load(filepath)\n",
    "        image_dataset_perelement_numpy.append(np.array(img))\n",
    "        image_dataset_labels.append(label_to_index(name[0]))\n",
    "\n",
    "image_dataset=np.array(image_dataset_perelement_numpy)\n",
    "all_labels=np.array(image_dataset_labels)\n",
    "\n",
    "print(image_count)\n",
    "print(image_dataset.shape, all_labels.shape)"
   ]
  },
  {
   "cell_type": "code",
   "execution_count": 32,
   "metadata": {},
   "outputs": [
    {
     "name": "stdout",
     "output_type": "stream",
     "text": [
      "(1972, 20, 17) (1972,)\n",
      "(656, 20, 17) (656,)\n"
     ]
    }
   ],
   "source": [
    "\n",
    "test_count=int(image_count*0.2)\n",
    "train_count=image_count-test_count\n",
    "\n",
    "train_image=image_dataset[test_count:train_count]\n",
    "train_label=all_labels[test_count:train_count]\n",
    "test_image=image_dataset[:test_count]\n",
    "test_label=all_labels[:test_count]\n",
    "\n",
    "print(train_image.shape, train_label.shape)\n",
    "print(test_image.shape, test_label.shape)"
   ]
  },
  {
   "cell_type": "code",
   "execution_count": 35,
   "metadata": {},
   "outputs": [],
   "source": [
    "model = tf.keras.models.Sequential([\n",
    "  tf.keras.layers.Flatten(input_shape=(20, 17)),\n",
    "  tf.keras.layers.Dense(128, activation='relu'),\n",
    "  tf.keras.layers.Dropout(0.2),\n",
    "  tf.keras.layers.Dense(31, activation='softmax')\n",
    "])\n",
    "\n",
    "model.compile(optimizer='adam',\n",
    "              loss='sparse_categorical_crossentropy',\n",
    "              metrics=['accuracy'])"
   ]
  },
  {
   "cell_type": "code",
   "execution_count": 37,
   "metadata": {},
   "outputs": [
    {
     "name": "stdout",
     "output_type": "stream",
     "text": [
      "Epoch 1/15\n",
      "62/62 [==============================] - 0s 1ms/step - loss: 1.1254 - accuracy: 0.8570\n",
      "Epoch 2/15\n",
      "62/62 [==============================] - 0s 1ms/step - loss: 0.8978 - accuracy: 0.8844\n",
      "Epoch 3/15\n",
      "62/62 [==============================] - 0s 1ms/step - loss: 0.7294 - accuracy: 0.9047\n",
      "Epoch 4/15\n",
      "62/62 [==============================] - 0s 1ms/step - loss: 0.6174 - accuracy: 0.9239\n",
      "Epoch 5/15\n",
      "62/62 [==============================] - 0s 1ms/step - loss: 0.5186 - accuracy: 0.9366\n",
      "Epoch 6/15\n",
      "62/62 [==============================] - 0s 990us/step - loss: 0.4575 - accuracy: 0.9508\n",
      "Epoch 7/15\n",
      "62/62 [==============================] - 0s 1ms/step - loss: 0.3936 - accuracy: 0.9594\n",
      "Epoch 8/15\n",
      "62/62 [==============================] - 0s 1ms/step - loss: 0.3383 - accuracy: 0.9660\n",
      "Epoch 9/15\n",
      "62/62 [==============================] - 0s 1ms/step - loss: 0.3157 - accuracy: 0.9660\n",
      "Epoch 10/15\n",
      "62/62 [==============================] - 0s 1ms/step - loss: 0.2771 - accuracy: 0.9736\n",
      "Epoch 11/15\n",
      "62/62 [==============================] - 0s 1ms/step - loss: 0.2513 - accuracy: 0.9777\n",
      "Epoch 12/15\n",
      "62/62 [==============================] - 0s 1ms/step - loss: 0.2341 - accuracy: 0.9757\n",
      "Epoch 13/15\n",
      "62/62 [==============================] - 0s 1ms/step - loss: 0.2208 - accuracy: 0.9812\n",
      "Epoch 14/15\n",
      "62/62 [==============================] - 0s 1ms/step - loss: 0.2001 - accuracy: 0.9817\n",
      "Epoch 15/15\n",
      "62/62 [==============================] - 0s 1ms/step - loss: 0.1837 - accuracy: 0.9863\n",
      "21/21 - 0s - loss: 0.1066 - accuracy: 0.9970 - 29ms/epoch - 1ms/step\n"
     ]
    },
    {
     "data": {
      "text/plain": [
       "[0.10662491619586945, 0.9969512224197388]"
      ]
     },
     "execution_count": 37,
     "metadata": {},
     "output_type": "execute_result"
    }
   ],
   "source": [
    "model.fit(train_image, train_label, epochs=15)\n",
    "\n",
    "model.evaluate(test_image,  test_label, verbose=2)\n"
   ]
  },
  {
   "cell_type": "code",
   "execution_count": 39,
   "metadata": {},
   "outputs": [],
   "source": [
    "model.save('capta-001.h5')\n"
   ]
  },
  {
   "cell_type": "code",
   "execution_count": 48,
   "metadata": {},
   "outputs": [
    {
     "name": "stdout",
     "output_type": "stream",
     "text": [
      "2\n",
      "z\n"
     ]
    }
   ],
   "source": [
    "\n"
   ]
  },
  {
   "cell_type": "code",
   "execution_count": 83,
   "metadata": {},
   "outputs": [
    {
     "data": {
      "text/plain": [
       "'d'"
      ]
     },
     "execution_count": 83,
     "metadata": {},
     "output_type": "execute_result"
    }
   ],
   "source": [
    "\n",
    "def topResult(result):\n",
    "    topIdx = 0\n",
    "    for i in range(len(result)):\n",
    "        if result[i] > result[topIdx]:\n",
    "            topIdx=i\n",
    "    return index_to_label(topIdx)\n",
    "    # print(topIdx, index_to_label(topIdx), result[topIdx])\n",
    " \n",
    "procmodel = tf.keras.models.load_model(\"capta-001.h5\")\n",
    "\n",
    "imgdata=image_load('/tmp/capab/d-5qgxd1bh-2-680,jpg')\n",
    "\n",
    "result=procmodel.predict(np.array([imgdata,]))\n",
    "\n",
    "# for v in np.nditer(np.sort(result), order='C'):\n",
    "#     print(v)\n",
    "# print(len(np.nditer(result, order='C')))\n",
    "result = result[0].tolist()\n",
    "topResult(result)\n",
    "# for i in range(len(result)):\n",
    "#     # print(i)\n",
    "#     print(i, index_to_label(i), result[i])\n"
   ]
  },
  {
   "cell_type": "code",
   "execution_count": 85,
   "metadata": {},
   "outputs": [],
   "source": [
    "for root, dirs, files in os.walk(\"/tmp/capac\", topdown=False):\n",
    "    for name in files:\n",
    "        filepath = os.path.join(root, name)\n",
    "        imgdata = image_load(filepath)\n",
    "        result=procmodel.predict(np.array([imgdata,]))\n",
    "        result = result[0].tolist()\n",
    "        newname = '%s-%s'%(topResult(result), name)\n",
    "        newpath = os.path.join(root, newname)\n",
    "        # print(filepath, newpath)\n",
    "        os.rename(filepath, newpath)\n",
    "\n",
    "\n"
   ]
  },
  {
   "cell_type": "code",
   "execution_count": 87,
   "metadata": {},
   "outputs": [
    {
     "name": "stdout",
     "output_type": "stream",
     "text": [
      "fnpx\n"
     ]
    }
   ],
   "source": [
    "def predict(imgs):\n",
    "    imgdatas = []\n",
    "    for img in imgs:\n",
    "        imgdatas.append(image_load(img))\n",
    "    result = procmodel.predict(np.array(imgdatas))\n",
    "    resultStr = ''\n",
    "    for i in range(len(imgs)):\n",
    "        resultStr += topResult(result[i].tolist())\n",
    "    return resultStr\n",
    "\n",
    "res = predict([\n",
    "    '/tmp/capac/n-sy57u_up-0-000,jpg',\n",
    "    '/tmp/capac/p-sy57u_up-1-000,jpg',\n",
    "    '/tmp/capac/x-sy57u_up-2-000,jpg',\n",
    "    '/tmp/capac/f-sy57u_up-3-000,jpg',])\n",
    "print(res)\n"
   ]
  }
 ],
 "metadata": {
  "interpreter": {
   "hash": "541649e5934e024eedcf6b32ceb5760adff4f31b8d11651c2bbc09e50763baa6"
  },
  "kernelspec": {
   "display_name": "Python 3.9.7 64-bit ('tf-learn-ELLEaoWI': pipenv)",
   "language": "python",
   "name": "python3"
  },
  "language_info": {
   "codemirror_mode": {
    "name": "ipython",
    "version": 3
   },
   "file_extension": ".py",
   "mimetype": "text/x-python",
   "name": "python",
   "nbconvert_exporter": "python",
   "pygments_lexer": "ipython3",
   "version": "3.9.7"
  },
  "orig_nbformat": 4
 },
 "nbformat": 4,
 "nbformat_minor": 2
}
